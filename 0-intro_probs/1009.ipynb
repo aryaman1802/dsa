{
 "cells": [
  {
   "cell_type": "markdown",
   "metadata": {},
   "source": [
    "Problem link: https://leetcode.com/problems/complement-of-base-10-integer/description/"
   ]
  },
  {
   "cell_type": "markdown",
   "metadata": {},
   "source": [
    "![\"1009_prob\"](./imgs/1009.png \"1009_prob\")"
   ]
  },
  {
   "cell_type": "markdown",
   "metadata": {},
   "source": [
    "## Python Solution"
   ]
  },
  {
   "cell_type": "code",
   "execution_count": 4,
   "metadata": {},
   "outputs": [],
   "source": [
    "def bitwiseComplement(n):\n",
    "    if n==0:\n",
    "        return 1\n",
    "    elif n==1:\n",
    "        return 0\n",
    "    else:\n",
    "        num=n\n",
    "        mask=0\n",
    "        while num != 0:\n",
    "            mask = mask << 1\n",
    "            mask = mask | 1\n",
    "            num = num >> 1\n",
    "        ans = (~n)&mask\n",
    "        return ans"
   ]
  },
  {
   "cell_type": "code",
   "execution_count": 5,
   "metadata": {},
   "outputs": [
    {
     "name": "stdout",
     "output_type": "stream",
     "text": [
      "2\n",
      "0\n",
      "5\n"
     ]
    }
   ],
   "source": [
    "print(bitwiseComplement(5))\n",
    "print(bitwiseComplement(7))\n",
    "print(bitwiseComplement(10))"
   ]
  },
  {
   "cell_type": "markdown",
   "metadata": {},
   "source": [
    "## C++ Solution"
   ]
  },
  {
   "cell_type": "markdown",
   "metadata": {},
   "source": [
    "```cpp\n",
    "#include <iostream>\n",
    "using namespace std;\n",
    "\n",
    "int bitwiseComplement(int n){\n",
    "    if(n==0){\n",
    "        return 1;\n",
    "    }\n",
    "    else if(n==1){\n",
    "        return 0;\n",
    "    }\n",
    "    else{\n",
    "        int num=n, mask=0;\n",
    "        while(num != 0){\n",
    "            mask = mask << 1;\n",
    "            mask = mask | 1;\n",
    "            num = num >> 1;\n",
    "        }\n",
    "        int ans = (~n)&(mask);\n",
    "        return ans;\n",
    "    }\n",
    "}\n",
    "\n",
    "int main(){\n",
    "    cout << bitwiseComplement(5) << \"\\n\";\n",
    "    cout << bitwiseComplement(7) << \"\\n\";\n",
    "    cout << bitwiseComplement(10) << \"\\n\";\n",
    "}\n",
    "```"
   ]
  },
  {
   "cell_type": "code",
   "execution_count": null,
   "metadata": {},
   "outputs": [],
   "source": []
  }
 ],
 "metadata": {
  "kernelspec": {
   "display_name": "base",
   "language": "python",
   "name": "python3"
  },
  "language_info": {
   "codemirror_mode": {
    "name": "ipython",
    "version": 3
   },
   "file_extension": ".py",
   "mimetype": "text/x-python",
   "name": "python",
   "nbconvert_exporter": "python",
   "pygments_lexer": "ipython3",
   "version": "3.9.7"
  }
 },
 "nbformat": 4,
 "nbformat_minor": 2
}
