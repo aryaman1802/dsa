{
 "cells": [
  {
   "cell_type": "markdown",
   "metadata": {},
   "source": [
    "Problem link: https://leetcode.com/problems/number-of-1-bits/description/"
   ]
  },
  {
   "cell_type": "markdown",
   "metadata": {},
   "source": [
    "## Python Solution"
   ]
  },
  {
   "cell_type": "code",
   "execution_count": 2,
   "metadata": {},
   "outputs": [],
   "source": [
    "# Solution 1 (replicating C++'s solution)\n",
    "def hammingWeight(n):\n",
    "    count = 0\n",
    "    while n != 0:\n",
    "        if n & 1:\n",
    "            count += 1\n",
    "        n >>= 1\n",
    "    return count\n"
   ]
  },
  {
   "cell_type": "code",
   "execution_count": 1,
   "metadata": {},
   "outputs": [],
   "source": [
    "# Solution 2 (better version)\n",
    "def hammingWeight(n):\n",
    "    ans = 0\n",
    "    while n != 0:\n",
    "        ans += n%2\n",
    "        n//=2\n",
    "    return ans\n"
   ]
  },
  {
   "cell_type": "markdown",
   "metadata": {},
   "source": [
    "## C++ Solution"
   ]
  },
  {
   "cell_type": "markdown",
   "metadata": {},
   "source": [
    "```cpp\n",
    "#include <iostream>\n",
    "using namespace std;\n",
    "\n",
    "int hammingWeight(int n){\n",
    "    int count = 0;\n",
    "    while(n != 0){\n",
    "        // check if the rightmost bit is 1\n",
    "        if(n & 1){\n",
    "            count++;\n",
    "        }\n",
    "        // right shift the binary form of the number\n",
    "        n = n >> 1;\n",
    "    }\n",
    "    return count;\n",
    "}\n",
    "\n",
    "int main(){\n",
    "    cout << hammingWeight(11) << \"\\n\";\n",
    "    cout << hammingWeight(128) << \"\\n\";\n",
    "    cout << hammingWeight(2147483645) << \"\\n\";\n",
    "}\n",
    "```"
   ]
  },
  {
   "cell_type": "code",
   "execution_count": null,
   "metadata": {},
   "outputs": [],
   "source": []
  }
 ],
 "metadata": {
  "kernelspec": {
   "display_name": "base",
   "language": "python",
   "name": "python3"
  },
  "language_info": {
   "codemirror_mode": {
    "name": "ipython",
    "version": 3
   },
   "file_extension": ".py",
   "mimetype": "text/x-python",
   "name": "python",
   "nbconvert_exporter": "python",
   "pygments_lexer": "ipython3",
   "version": "3.9.7"
  }
 },
 "nbformat": 4,
 "nbformat_minor": 2
}
