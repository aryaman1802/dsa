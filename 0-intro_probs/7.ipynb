{
 "cells": [
  {
   "cell_type": "markdown",
   "metadata": {},
   "source": [
    "Problem link: https://leetcode.com/problems/reverse-integer/description/"
   ]
  },
  {
   "cell_type": "markdown",
   "metadata": {},
   "source": [
    "![\"7_prob\"](./imgs/7.png \"7_prob\")"
   ]
  },
  {
   "cell_type": "markdown",
   "metadata": {},
   "source": [
    "## Python Solution"
   ]
  },
  {
   "cell_type": "markdown",
   "metadata": {},
   "source": [
    "In Python, [integer division](https://stackoverflow.com/a/5535239) and [modulo](https://stackoverflow.com/a/3883019) operations on negative numbers give suprising results."
   ]
  },
  {
   "cell_type": "code",
   "execution_count": 20,
   "metadata": {},
   "outputs": [],
   "source": [
    "def reverse_int(x):\n",
    "    rev = 0\n",
    "    if x >= 0:\n",
    "        sign = 1\n",
    "    elif x < 0:\n",
    "        sign = -1\n",
    "    x = abs(x)\n",
    "    while x != 0:\n",
    "        digit = x%10\n",
    "        rev = rev*10 + digit\n",
    "        x = x//10\n",
    "    rev = rev*sign\n",
    "    int_max = (2**31) - 1\n",
    "    int_min = -(2**31)\n",
    "    if (rev > int_max) or (rev < int_min):\n",
    "        return 0\n",
    "    else:\n",
    "        return rev"
   ]
  },
  {
   "cell_type": "code",
   "execution_count": 21,
   "metadata": {},
   "outputs": [
    {
     "name": "stdout",
     "output_type": "stream",
     "text": [
      "321\n",
      "-321\n",
      "21\n"
     ]
    }
   ],
   "source": [
    "print(reverse_int(123))\n",
    "print(reverse_int(-123))\n",
    "print(reverse_int(120))"
   ]
  },
  {
   "cell_type": "markdown",
   "metadata": {},
   "source": [
    "## C++ Solution"
   ]
  },
  {
   "cell_type": "markdown",
   "metadata": {},
   "source": [
    "```cpp\n",
    "#include <iostream>\n",
    "using namespace std;\n",
    "\n",
    "int reverse_int(int n){\n",
    "    int digit=0, reversed_num=0;\n",
    "    while(n != 0){\n",
    "        digit = n%10;\n",
    "        if((reversed_num > (INT16_MAX/10)) || (reversed_num < (INT16_MIN/10))){\n",
    "            return 0;\n",
    "        }\n",
    "        reversed_num = (reversed_num*10) + digit;\n",
    "        n /= 10;\n",
    "    }\n",
    "    return reversed_num;\n",
    "}\n",
    "\n",
    "int main(){\n",
    "    cout << reverse_int(123) << \"\\n\";\n",
    "    cout << reverse_int(-123) << \"\\n\";\n",
    "    cout << reverse_int(120) << \"\\n\";\n",
    "}\n",
    "```"
   ]
  },
  {
   "cell_type": "code",
   "execution_count": null,
   "metadata": {},
   "outputs": [],
   "source": []
  }
 ],
 "metadata": {
  "kernelspec": {
   "display_name": "base",
   "language": "python",
   "name": "python3"
  },
  "language_info": {
   "codemirror_mode": {
    "name": "ipython",
    "version": 3
   },
   "file_extension": ".py",
   "mimetype": "text/x-python",
   "name": "python",
   "nbconvert_exporter": "python",
   "pygments_lexer": "ipython3",
   "version": "3.9.7"
  }
 },
 "nbformat": 4,
 "nbformat_minor": 2
}
