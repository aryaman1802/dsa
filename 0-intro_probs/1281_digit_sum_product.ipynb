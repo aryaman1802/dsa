{
 "cells": [
  {
   "cell_type": "markdown",
   "metadata": {},
   "source": [
    "Problem link: https://leetcode.com/problems/subtract-the-product-and-sum-of-digits-of-an-integer/description/"
   ]
  },
  {
   "cell_type": "markdown",
   "metadata": {},
   "source": [
    "## Python Solution"
   ]
  },
  {
   "cell_type": "code",
   "execution_count": 1,
   "metadata": {},
   "outputs": [],
   "source": [
    "def subtractProductAndSum(n):\n",
    "    pod = 1     # product of digits\n",
    "    sod = 0     # sum of digits\n",
    "    while n!= 0:\n",
    "        d = n % 10    # extract the last digit\n",
    "        pod *= d\n",
    "        sod += d\n",
    "        n = n // 10   # remove the last digit\n",
    "    return pod - sod\n"
   ]
  },
  {
   "cell_type": "code",
   "execution_count": 2,
   "metadata": {},
   "outputs": [
    {
     "data": {
      "text/plain": [
       "15"
      ]
     },
     "execution_count": 2,
     "metadata": {},
     "output_type": "execute_result"
    }
   ],
   "source": [
    "subtractProductAndSum(234)"
   ]
  },
  {
   "cell_type": "code",
   "execution_count": 3,
   "metadata": {},
   "outputs": [
    {
     "data": {
      "text/plain": [
       "21"
      ]
     },
     "execution_count": 3,
     "metadata": {},
     "output_type": "execute_result"
    }
   ],
   "source": [
    "subtractProductAndSum(4421)"
   ]
  },
  {
   "cell_type": "markdown",
   "metadata": {},
   "source": [
    "## C++ Solution"
   ]
  },
  {
   "cell_type": "markdown",
   "metadata": {},
   "source": [
    "```cpp\n",
    "#include <iostream>\n",
    "using namespace std;\n",
    "\n",
    "int subtractProductAndSum(int n){\n",
    "    int sod = 0;  // sum of digits\n",
    "    int pod = 1;  // product of digits\n",
    "    // Extract digits\n",
    "    int d = 1;\n",
    "    while (n!=0){\n",
    "        d = n%10;   // extract the last digit\n",
    "        pod *= d;\n",
    "        sod += d;\n",
    "        n /= 10;   // remove the last digit\n",
    "    }\n",
    "    return (pod - sod);\n",
    "}\n",
    "\n",
    "int main(){\n",
    "    cout << subtractProductAndSum(234) << \"\\n\";\n",
    "    cout << subtractProductAndSum(4421) << \"\\n\";\n",
    "}\n",
    "```"
   ]
  },
  {
   "cell_type": "code",
   "execution_count": null,
   "metadata": {},
   "outputs": [],
   "source": []
  }
 ],
 "metadata": {
  "kernelspec": {
   "display_name": "base",
   "language": "python",
   "name": "python3"
  },
  "language_info": {
   "codemirror_mode": {
    "name": "ipython",
    "version": 3
   },
   "file_extension": ".py",
   "mimetype": "text/x-python",
   "name": "python",
   "nbconvert_exporter": "python",
   "pygments_lexer": "ipython3",
   "version": "3.9.7"
  }
 },
 "nbformat": 4,
 "nbformat_minor": 2
}
