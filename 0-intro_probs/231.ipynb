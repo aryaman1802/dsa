{
 "cells": [
  {
   "cell_type": "markdown",
   "metadata": {},
   "source": [
    "Problem link: https://leetcode.com/problems/power-of-two/description/"
   ]
  },
  {
   "cell_type": "markdown",
   "metadata": {},
   "source": [
    "![\"231_prob\"](./imgs/231.png \"231_prob\")"
   ]
  },
  {
   "cell_type": "markdown",
   "metadata": {},
   "source": [
    "## Python Solution"
   ]
  },
  {
   "cell_type": "code",
   "execution_count": 3,
   "metadata": {},
   "outputs": [],
   "source": [
    "def isPowerOfTwo(n):\n",
    "    x=0\n",
    "    while 2**x < n:\n",
    "        x+=1\n",
    "    return (2**x) == n\n",
    "    "
   ]
  },
  {
   "cell_type": "code",
   "execution_count": null,
   "metadata": {},
   "outputs": [],
   "source": [
    "print(isPowerOfTwo(1))\n",
    "print(isPowerOfTwo(16))\n",
    "print(isPowerOfTwo(3))\n",
    "print(isPowerOfTwo(6))\n",
    "print(isPowerOfTwo(-16))"
   ]
  },
  {
   "cell_type": "markdown",
   "metadata": {},
   "source": [
    "## C++ Solution"
   ]
  },
  {
   "cell_type": "markdown",
   "metadata": {},
   "source": [
    "```cpp\n",
    "#include <iostream>\n",
    "#include <math.h>\n",
    "using namespace std;\n",
    "\n",
    "bool isPowerOfTwo_v2(int n){\n",
    "    if(n > pow(2,30)){\n",
    "        return false;\n",
    "    }\n",
    "    else if(n < 1){\n",
    "        return false;\n",
    "    }\n",
    "    else{\n",
    "        // if the number of 1 bits is equal to 1\n",
    "        // then the number is a power of 2\n",
    "        int count=0;\n",
    "        while(n != 0){\n",
    "            if(n&1){\n",
    "                count++;\n",
    "            }\n",
    "            n = n >> 1;\n",
    "        }\n",
    "        if(count==1){\n",
    "            return true;\n",
    "        }\n",
    "        else{\n",
    "            return false;\n",
    "        }\n",
    "    }\n",
    "}\n",
    "\n",
    "bool isPowerOfTwo(int n){\n",
    "    if(n > pow(2,30)){\n",
    "        return false;\n",
    "    }\n",
    "    else if(n < 1){\n",
    "        return false;\n",
    "    }\n",
    "    else{\n",
    "        int x=0, num=1;\n",
    "        while(num < n){\n",
    "            num *= 2;\n",
    "        }\n",
    "        if(num == n){\n",
    "            return true;\n",
    "        }\n",
    "        else{\n",
    "            return false;\n",
    "        }\n",
    "    }\n",
    "}\n",
    "\n",
    "int main(){\n",
    "    cout << isPowerOfTwo(1) << \"\\n\";\n",
    "    cout << isPowerOfTwo(16) << \"\\n\";\n",
    "    cout << isPowerOfTwo(3) << \"\\n\";\n",
    "    cout << isPowerOfTwo(6) << \"\\n\";\n",
    "    cout << isPowerOfTwo(-16) << \"\\n\";\n",
    "}\n",
    "```"
   ]
  },
  {
   "cell_type": "code",
   "execution_count": null,
   "metadata": {},
   "outputs": [],
   "source": []
  }
 ],
 "metadata": {
  "kernelspec": {
   "display_name": "base",
   "language": "python",
   "name": "python3"
  },
  "language_info": {
   "codemirror_mode": {
    "name": "ipython",
    "version": 3
   },
   "file_extension": ".py",
   "mimetype": "text/x-python",
   "name": "python",
   "nbconvert_exporter": "python",
   "pygments_lexer": "ipython3",
   "version": "3.9.7"
  }
 },
 "nbformat": 4,
 "nbformat_minor": 2
}
